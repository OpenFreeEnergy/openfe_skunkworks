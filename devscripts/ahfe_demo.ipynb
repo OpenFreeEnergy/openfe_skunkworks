{
 "cells": [
  {
   "cell_type": "code",
   "execution_count": 46,
   "id": "6ff24094-fa64-421b-9355-8e0ed7ef29e1",
   "metadata": {},
   "outputs": [],
   "source": [
    "import openfe\n",
    "from openfe_skunkworks.protocols import openmm_afe"
   ]
  },
  {
   "cell_type": "code",
   "execution_count": 47,
   "id": "a46df6a3-72a6-4ad2-93ff-8af96a88dce6",
   "metadata": {},
   "outputs": [],
   "source": [
    "# first load chemistry components\n",
    "solvent = openfe.SolventComponent(smiles='O')\n",
    "benzene = openfe.SmallMoleculeComponent.from_sdf_file('./benzene.sdf')\n",
    "\n",
    "# arrange into ChemicalSystems that represent the free energy difference\n",
    "cs_solvent = openfe.ChemicalSystem({'solvent': solvent}, name='solvent system')\n",
    "cs_benzene = openfe.ChemicalSystem({'solvent': solvent, 'ligand': benzene}, name='solvated benzene')"
   ]
  },
  {
   "cell_type": "code",
   "execution_count": 48,
   "id": "ef5c6aeb-a3d7-471b-a639-44d4493f6f21",
   "metadata": {},
   "outputs": [],
   "source": [
    "# grab default Settings for the AFE solvation protocol\n",
    "settings = openmm_afe.AbsoluteSolvationProtocol.default_settings()"
   ]
  },
  {
   "cell_type": "code",
   "execution_count": 49,
   "id": "605bb474-0dc2-44be-af32-088245e4520f",
   "metadata": {},
   "outputs": [
    {
     "name": "stdout",
     "output_type": "stream",
     "text": [
      "{'alchemical_settings': {},\n",
      " 'integrator_settings': {'barostat_frequency': <Quantity(25, 'timestep')>,\n",
      "                         'constraint_tolerance': 1e-06,\n",
      "                         'langevin_collision_rate': <Quantity(1.0, '1 / picosecond')>,\n",
      "                         'n_restart_attempts': 20,\n",
      "                         'reassign_velocities': False,\n",
      "                         'remove_com': False,\n",
      "                         'timestep': <Quantity(4, 'femtosecond')>},\n",
      " 'lambda_settings': {'lambda_elec': [0.0,\n",
      "                                     0.25,\n",
      "                                     0.5,\n",
      "                                     0.75,\n",
      "                                     1.0,\n",
      "                                     1.0,\n",
      "                                     1.0,\n",
      "                                     1.0,\n",
      "                                     1.0,\n",
      "                                     1.0,\n",
      "                                     1.0,\n",
      "                                     1.0,\n",
      "                                     1.0,\n",
      "                                     1.0],\n",
      "                     'lambda_restraints': [0.0,\n",
      "                                           0.0,\n",
      "                                           0.0,\n",
      "                                           0.0,\n",
      "                                           0.0,\n",
      "                                           0.0,\n",
      "                                           0.0,\n",
      "                                           0.0,\n",
      "                                           0.0,\n",
      "                                           0.0,\n",
      "                                           0.0,\n",
      "                                           0.0,\n",
      "                                           0.0,\n",
      "                                           0.0],\n",
      "                     'lambda_vdw': [0.0,\n",
      "                                    0.0,\n",
      "                                    0.0,\n",
      "                                    0.0,\n",
      "                                    0.0,\n",
      "                                    0.12,\n",
      "                                    0.24,\n",
      "                                    0.36,\n",
      "                                    0.48,\n",
      "                                    0.6,\n",
      "                                    0.7,\n",
      "                                    0.77,\n",
      "                                    0.85,\n",
      "                                    1.0]},\n",
      " 'partial_charge_settings': {'nagl_model': None,\n",
      "                             'number_of_conformers': None,\n",
      "                             'off_toolkit_backend': 'ambertools',\n",
      "                             'partial_charge_method': 'am1bcc'},\n",
      " 'protocol_repeats': 3,\n",
      " 'solvation_settings': {'solvent_model': 'tip3p',\n",
      "                        'solvent_padding': <Quantity(1.2, 'nanometer')>},\n",
      " 'solvent_engine_settings': {'compute_platform': None},\n",
      " 'solvent_equil_output_settings': {'checkpoint_interval': <Quantity(1, 'picosecond')>,\n",
      "                                   'checkpoint_storage_filename': 'checkpoint.chk',\n",
      "                                   'equil_npt_structure': 'equil_npt_structure.pdb',\n",
      "                                   'equil_nvt_structure': 'equil_nvt_structure.pdb',\n",
      "                                   'forcefield_cache': 'db.json',\n",
      "                                   'log_output': 'equil_simulation.log',\n",
      "                                   'minimized_structure': 'minimized.pdb',\n",
      "                                   'output_indices': 'not water',\n",
      "                                   'preminimized_structure': 'system.pdb',\n",
      "                                   'production_trajectory_filename': 'production_equil.xtc',\n",
      "                                   'trajectory_write_interval': <Quantity(20, 'picosecond')>},\n",
      " 'solvent_equil_simulation_settings': {'equilibration_length': <Quantity(0.2, 'nanosecond')>,\n",
      "                                       'equilibration_length_nvt': <Quantity(0.1, 'nanosecond')>,\n",
      "                                       'minimization_steps': 5000,\n",
      "                                       'production_length': <Quantity(0.5, 'nanosecond')>},\n",
      " 'solvent_forcefield_settings': {'constraints': 'hbonds',\n",
      "                                 'forcefields': ['amber/ff14SB.xml',\n",
      "                                                 'amber/tip3p_standard.xml',\n",
      "                                                 'amber/tip3p_HFE_multivalent.xml',\n",
      "                                                 'amber/phosaa10.xml'],\n",
      "                                 'hydrogen_mass': 3.0,\n",
      "                                 'nonbonded_cutoff': <Quantity(1.0, 'nanometer')>,\n",
      "                                 'nonbonded_method': 'PME',\n",
      "                                 'rigid_water': True,\n",
      "                                 'small_molecule_forcefield': 'openff-2.0.0'},\n",
      " 'solvent_output_settings': {'checkpoint_interval': <Quantity(1, 'picosecond')>,\n",
      "                             'checkpoint_storage_filename': 'solvent_checkpoint.nc',\n",
      "                             'forcefield_cache': 'db.json',\n",
      "                             'output_filename': 'solvent.nc',\n",
      "                             'output_indices': 'not water',\n",
      "                             'output_structure': 'hybrid_system.pdb'},\n",
      " 'solvent_simulation_settings': {'early_termination_target_error': <Quantity(0.0, 'kilocalorie_per_mole')>,\n",
      "                                 'equilibration_length': <Quantity(1.0, 'nanosecond')>,\n",
      "                                 'minimization_steps': 5000,\n",
      "                                 'n_replicas': 14,\n",
      "                                 'production_length': <Quantity(10.0, 'nanosecond')>,\n",
      "                                 'real_time_analysis_interval': <Quantity(250, 'picosecond')>,\n",
      "                                 'real_time_analysis_minimum_time': <Quantity(500, 'picosecond')>,\n",
      "                                 'sampler_method': 'repex',\n",
      "                                 'sams_flatness_criteria': 'logZ-flatness',\n",
      "                                 'sams_gamma0': 1.0,\n",
      "                                 'time_per_iteration': <Quantity(1, 'picosecond')>},\n",
      " 'thermo_settings': {'ph': None,\n",
      "                     'pressure': <Quantity(0.986923267, 'standard_atmosphere')>,\n",
      "                     'redox_potential': None,\n",
      "                     'temperature': <Quantity(298.15, 'kelvin')>},\n",
      " 'vacuum_engine_settings': {'compute_platform': None},\n",
      " 'vacuum_equil_output_settings': {'checkpoint_interval': <Quantity(1, 'picosecond')>,\n",
      "                                  'checkpoint_storage_filename': 'checkpoint.chk',\n",
      "                                  'equil_npt_structure': 'equil_structure.pdb',\n",
      "                                  'equil_nvt_structure': None,\n",
      "                                  'forcefield_cache': 'db.json',\n",
      "                                  'log_output': 'equil_simulation.log',\n",
      "                                  'minimized_structure': 'minimized.pdb',\n",
      "                                  'output_indices': 'not water',\n",
      "                                  'preminimized_structure': 'system.pdb',\n",
      "                                  'production_trajectory_filename': 'production_equil.xtc',\n",
      "                                  'trajectory_write_interval': <Quantity(20, 'picosecond')>},\n",
      " 'vacuum_equil_simulation_settings': {'equilibration_length': <Quantity(0.2, 'nanosecond')>,\n",
      "                                      'equilibration_length_nvt': None,\n",
      "                                      'minimization_steps': 5000,\n",
      "                                      'production_length': <Quantity(0.5, 'nanosecond')>},\n",
      " 'vacuum_forcefield_settings': {'constraints': 'hbonds',\n",
      "                                'forcefields': ['amber/ff14SB.xml',\n",
      "                                                'amber/tip3p_standard.xml',\n",
      "                                                'amber/tip3p_HFE_multivalent.xml',\n",
      "                                                'amber/phosaa10.xml'],\n",
      "                                'hydrogen_mass': 3.0,\n",
      "                                'nonbonded_cutoff': <Quantity(1.0, 'nanometer')>,\n",
      "                                'nonbonded_method': 'nocutoff',\n",
      "                                'rigid_water': True,\n",
      "                                'small_molecule_forcefield': 'openff-2.0.0'},\n",
      " 'vacuum_output_settings': {'checkpoint_interval': <Quantity(1, 'picosecond')>,\n",
      "                            'checkpoint_storage_filename': 'vacuum_checkpoint.nc',\n",
      "                            'forcefield_cache': 'db.json',\n",
      "                            'output_filename': 'vacuum.nc',\n",
      "                            'output_indices': 'not water',\n",
      "                            'output_structure': 'hybrid_system.pdb'},\n",
      " 'vacuum_simulation_settings': {'early_termination_target_error': <Quantity(0.0, 'kilocalorie_per_mole')>,\n",
      "                                'equilibration_length': <Quantity(0.5, 'nanosecond')>,\n",
      "                                'minimization_steps': 5000,\n",
      "                                'n_replicas': 14,\n",
      "                                'production_length': <Quantity(2.0, 'nanosecond')>,\n",
      "                                'real_time_analysis_interval': <Quantity(250, 'picosecond')>,\n",
      "                                'real_time_analysis_minimum_time': <Quantity(500, 'picosecond')>,\n",
      "                                'sampler_method': 'repex',\n",
      "                                'sams_flatness_criteria': 'logZ-flatness',\n",
      "                                'sams_gamma0': 1.0,\n",
      "                                'time_per_iteration': <Quantity(1, 'picosecond')>}}\n"
     ]
    }
   ],
   "source": [
    "# in gromacs currency, this is a little like the .mdp file\n",
    "settings"
   ]
  },
  {
   "cell_type": "code",
   "execution_count": 50,
   "id": "825ab785-6d63-456e-a66a-6056ea8cae33",
   "metadata": {},
   "outputs": [
    {
     "name": "stdout",
     "output_type": "stream",
     "text": [
      "<class 'openfe.protocols.openmm_utils.omm_settings.OpenMMSolvationSettings'>\n"
     ]
    }
   ],
   "source": [
    "# notably, this settings section is an OpenMMSolvationSettings\n",
    "print(type(settings.solvation_settings))"
   ]
  },
  {
   "cell_type": "code",
   "execution_count": 51,
   "id": "c13ad4cb-e7db-4a1d-97e5-7c0c75b9362b",
   "metadata": {},
   "outputs": [],
   "source": [
    "# I'm imagining that we'll have something like this...\n",
    "from openff.models.models import BaseModel\n",
    "\n",
    "class PackmolSolvationSettings(BaseModel):\n",
    "    tolerance: float=2.0\n",
    "\n",
    "pss = PackmolSolvationSettings()"
   ]
  },
  {
   "cell_type": "code",
   "execution_count": 52,
   "id": "da04d349-4f39-4aea-b807-9da8c23718b4",
   "metadata": {},
   "outputs": [
    {
     "ename": "ValidationError",
     "evalue": "1 validation error for AbsoluteSolvationSettings\nsolvation_settings -> tolerance\n  extra fields not permitted (type=value_error.extra)",
     "output_type": "error",
     "traceback": [
      "\u001b[0;31m---------------------------------------------------------------------------\u001b[0m",
      "\u001b[0;31mValidationError\u001b[0m                           Traceback (most recent call last)",
      "Cell \u001b[0;32mIn[52], line 4\u001b[0m\n\u001b[1;32m      1\u001b[0m \u001b[38;5;66;03m# this currently fails, we'll either have to:\u001b[39;00m\n\u001b[1;32m      2\u001b[0m \u001b[38;5;66;03m# put a solvation_settings: Union[OpenMMSolvationSettings, OpenMMSolvationSettings]\u001b[39;00m\n\u001b[1;32m      3\u001b[0m \u001b[38;5;66;03m# OR create an empty base class that both the above classes inherit from, not sure which is cleaner w/ pydantic\u001b[39;00m\n\u001b[0;32m----> 4\u001b[0m \u001b[43msettings\u001b[49m\u001b[38;5;241;43m.\u001b[39;49m\u001b[43msolvation_settings\u001b[49m \u001b[38;5;241m=\u001b[39m pss\n",
      "File \u001b[0;32m~/miniconda3/envs/openfe_dev/lib/python3.11/site-packages/gufe/settings/models.py:104\u001b[0m, in \u001b[0;36mSettingsBaseModel.__setattr__\u001b[0;34m(self, name, value)\u001b[0m\n\u001b[1;32m     99\u001b[0m \u001b[38;5;28;01mif\u001b[39;00m name \u001b[38;5;241m!=\u001b[39m \u001b[38;5;124m\"\u001b[39m\u001b[38;5;124m_is_frozen\u001b[39m\u001b[38;5;124m\"\u001b[39m \u001b[38;5;129;01mand\u001b[39;00m \u001b[38;5;28mself\u001b[39m\u001b[38;5;241m.\u001b[39m_is_frozen:\n\u001b[1;32m    100\u001b[0m     \u001b[38;5;28;01mraise\u001b[39;00m \u001b[38;5;167;01mAttributeError\u001b[39;00m(\n\u001b[1;32m    101\u001b[0m         \u001b[38;5;124mf\u001b[39m\u001b[38;5;124m\"\u001b[39m\u001b[38;5;124mCannot set \u001b[39m\u001b[38;5;124m'\u001b[39m\u001b[38;5;132;01m{\u001b[39;00mname\u001b[38;5;132;01m}\u001b[39;00m\u001b[38;5;124m'\u001b[39m\u001b[38;5;124m: Settings are immutable once attached\u001b[39m\u001b[38;5;124m\"\u001b[39m\n\u001b[1;32m    102\u001b[0m         \u001b[38;5;124m\"\u001b[39m\u001b[38;5;124m to a Protocol and cannot be modified. Modify Settings \u001b[39m\u001b[38;5;124m\"\u001b[39m\n\u001b[1;32m    103\u001b[0m         \u001b[38;5;124m\"\u001b[39m\u001b[38;5;124m*before* creating the Protocol.\u001b[39m\u001b[38;5;124m\"\u001b[39m)\n\u001b[0;32m--> 104\u001b[0m \u001b[38;5;28;01mreturn\u001b[39;00m \u001b[38;5;28;43msuper\u001b[39;49m\u001b[43m(\u001b[49m\u001b[43m)\u001b[49m\u001b[38;5;241;43m.\u001b[39;49m\u001b[38;5;21;43m__setattr__\u001b[39;49m\u001b[43m(\u001b[49m\u001b[43mname\u001b[49m\u001b[43m,\u001b[49m\u001b[43m \u001b[49m\u001b[43mvalue\u001b[49m\u001b[43m)\u001b[49m\n",
      "File \u001b[0;32m~/miniconda3/envs/openfe_dev/lib/python3.11/site-packages/pydantic/main.py:384\u001b[0m, in \u001b[0;36mpydantic.main.BaseModel.__setattr__\u001b[0;34m()\u001b[0m\n",
      "\u001b[0;31mValidationError\u001b[0m: 1 validation error for AbsoluteSolvationSettings\nsolvation_settings -> tolerance\n  extra fields not permitted (type=value_error.extra)"
     ]
    }
   ],
   "source": [
    "# this currently fails, we'll either have to:\n",
    "# put a solvation_settings: Union[OpenMMSolvationSettings, OpenMMSolvationSettings]\n",
    "# OR create an empty base class that both the above classes inherit from, not sure which is cleaner w/ pydantic\n",
    "settings.solvation_settings = pss\n",
    "\n",
    "# we can then replace the \"if interchange:\" line with \"if isinstance(solvation_settings, PackmolSolvationSettings):\""
   ]
  },
  {
   "cell_type": "code",
   "execution_count": 53,
   "id": "20a6f36a-8867-4730-b7c7-e886b8806780",
   "metadata": {},
   "outputs": [],
   "source": [
    "# crystallise the settings into a Protocol, a chemistry-less definition of a algorithm\n",
    "protocol = openmm_afe.AbsoluteSolvationProtocol(settings)"
   ]
  },
  {
   "cell_type": "code",
   "execution_count": 54,
   "id": "dcf492d2-7633-4c90-9c9f-b3f9f861e998",
   "metadata": {},
   "outputs": [],
   "source": [
    "# attach the chemistry by bundling the two together into a Transformation\n",
    "transformation = openfe.Transformation(\n",
    "    stateA=cs_benzene,\n",
    "    stateB=cs_solvent,\n",
    "    mapping=None,\n",
    "    protocol=protocol\n",
    ")"
   ]
  },
  {
   "cell_type": "code",
   "execution_count": 55,
   "id": "3910b681-bd2e-4c14-b2fd-8ced0f7f51a6",
   "metadata": {},
   "outputs": [
    {
     "data": {
      "text/plain": [
       "Transformation(stateA=ChemicalSystem(name=solvated benzene, components={'solvent': SolventComponent(name=O, Na+, Cl-), 'ligand': SmallMoleculeComponent(name=benzene)}), stateB=ChemicalSystem(name=solvent system, components={'solvent': SolventComponent(name=O, Na+, Cl-)}), protocol=<AbsoluteSolvationProtocol-08b4951f9786bdc77ff4c1d9e9f63c90>)"
      ]
     },
     "execution_count": 55,
     "metadata": {},
     "output_type": "execute_result"
    }
   ],
   "source": [
    "transformation"
   ]
  },
  {
   "cell_type": "code",
   "execution_count": 56,
   "id": "ceb92c21-ad53-4a3b-850e-fa2bd64ca494",
   "metadata": {},
   "outputs": [],
   "source": [
    "# this is a bit like a gromacs .tpr, it's a self contained simulation definition ready to go\n",
    "transformation.dump('benzene.json')"
   ]
  },
  {
   "cell_type": "code",
   "execution_count": 57,
   "id": "1e6708d7-2a0e-4e0d-9f92-7867b09f7f90",
   "metadata": {},
   "outputs": [],
   "source": [
    "# running \"openfe quickrun benzene.json\" should start the simulation"
   ]
  },
  {
   "cell_type": "code",
   "execution_count": null,
   "id": "8e0be5f8-6660-46a3-b108-3945fe78503d",
   "metadata": {},
   "outputs": [],
   "source": []
  }
 ],
 "metadata": {
  "kernelspec": {
   "display_name": "Python 3 (ipykernel)",
   "language": "python",
   "name": "python3"
  },
  "language_info": {
   "codemirror_mode": {
    "name": "ipython",
    "version": 3
   },
   "file_extension": ".py",
   "mimetype": "text/x-python",
   "name": "python",
   "nbconvert_exporter": "python",
   "pygments_lexer": "ipython3",
   "version": "3.11.6"
  }
 },
 "nbformat": 4,
 "nbformat_minor": 5
}

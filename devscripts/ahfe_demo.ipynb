{
 "cells": [
  {
   "cell_type": "code",
   "execution_count": 1,
   "id": "6ff24094-fa64-421b-9355-8e0ed7ef29e1",
   "metadata": {},
   "outputs": [],
   "source": [
    "import openfe\n",
    "from openfe_skunkworks.protocols import openmm_afe"
   ]
  },
  {
   "cell_type": "code",
   "execution_count": 2,
   "id": "a46df6a3-72a6-4ad2-93ff-8af96a88dce6",
   "metadata": {},
   "outputs": [],
   "source": [
    "# first load chemistry components\n",
    "solvent = openfe.SolventComponent(smiles='O')\n",
    "benzene = openfe.SmallMoleculeComponent.from_sdf_file('./benzene.sdf')\n",
    "\n",
    "# arrange into ChemicalSystems that represent the free energy difference\n",
    "cs_solvent = openfe.ChemicalSystem({'solvent': solvent}, name='solvent system')\n",
    "cs_benzene = openfe.ChemicalSystem({'solvent': solvent, 'ligand': benzene}, name='solvated benzene')"
   ]
  },
  {
   "cell_type": "code",
   "execution_count": 3,
   "id": "ef5c6aeb-a3d7-471b-a639-44d4493f6f21",
   "metadata": {},
   "outputs": [],
   "source": [
    "# grab default Settings for the AFE solvation protocol\n",
    "settings = openmm_afe.AbsoluteSolvationProtocol.default_settings()"
   ]
  },
  {
   "cell_type": "code",
   "execution_count": 4,
   "id": "605bb474-0dc2-44be-af32-088245e4520f",
   "metadata": {},
   "outputs": [
    {
     "name": "stdout",
     "output_type": "stream",
     "text": [
      "{'alchemical_settings': {},\n",
      " 'integrator_settings': {'barostat_frequency': <Quantity(25, 'timestep')>,\n",
      "                         'constraint_tolerance': 1e-06,\n",
      "                         'langevin_collision_rate': <Quantity(1.0, '1 / picosecond')>,\n",
      "                         'n_restart_attempts': 20,\n",
      "                         'reassign_velocities': False,\n",
      "                         'remove_com': False,\n",
      "                         'timestep': <Quantity(4, 'femtosecond')>},\n",
      " 'lambda_settings': {'lambda_elec': [0.0,\n",
      "                                     0.25,\n",
      "                                     0.5,\n",
      "                                     0.75,\n",
      "                                     1.0,\n",
      "                                     1.0,\n",
      "                                     1.0,\n",
      "                                     1.0,\n",
      "                                     1.0,\n",
      "                                     1.0,\n",
      "                                     1.0,\n",
      "                                     1.0,\n",
      "                                     1.0,\n",
      "                                     1.0],\n",
      "                     'lambda_restraints': [0.0,\n",
      "                                           0.0,\n",
      "                                           0.0,\n",
      "                                           0.0,\n",
      "                                           0.0,\n",
      "                                           0.0,\n",
      "                                           0.0,\n",
      "                                           0.0,\n",
      "                                           0.0,\n",
      "                                           0.0,\n",
      "                                           0.0,\n",
      "                                           0.0,\n",
      "                                           0.0,\n",
      "                                           0.0],\n",
      "                     'lambda_vdw': [0.0,\n",
      "                                    0.0,\n",
      "                                    0.0,\n",
      "                                    0.0,\n",
      "                                    0.0,\n",
      "                                    0.12,\n",
      "                                    0.24,\n",
      "                                    0.36,\n",
      "                                    0.48,\n",
      "                                    0.6,\n",
      "                                    0.7,\n",
      "                                    0.77,\n",
      "                                    0.85,\n",
      "                                    1.0]},\n",
      " 'partial_charge_settings': {'nagl_model': None,\n",
      "                             'number_of_conformers': None,\n",
      "                             'off_toolkit_backend': 'ambertools',\n",
      "                             'partial_charge_method': 'am1bcc'},\n",
      " 'protocol_repeats': 3,\n",
      " 'solvation_settings': {'solvent_model': 'tip3p',\n",
      "                        'solvent_padding': <Quantity(1.2, 'nanometer')>},\n",
      " 'solvent_engine_settings': {'compute_platform': None},\n",
      " 'solvent_equil_output_settings': {'checkpoint_interval': <Quantity(1, 'picosecond')>,\n",
      "                                   'checkpoint_storage_filename': 'checkpoint.chk',\n",
      "                                   'equil_npt_structure': 'equil_npt_structure.pdb',\n",
      "                                   'equil_nvt_structure': 'equil_nvt_structure.pdb',\n",
      "                                   'forcefield_cache': 'db.json',\n",
      "                                   'log_output': 'equil_simulation.log',\n",
      "                                   'minimized_structure': 'minimized.pdb',\n",
      "                                   'output_indices': 'not water',\n",
      "                                   'preminimized_structure': 'system.pdb',\n",
      "                                   'production_trajectory_filename': 'production_equil.xtc',\n",
      "                                   'trajectory_write_interval': <Quantity(20, 'picosecond')>},\n",
      " 'solvent_equil_simulation_settings': {'equilibration_length': <Quantity(0.2, 'nanosecond')>,\n",
      "                                       'equilibration_length_nvt': <Quantity(0.1, 'nanosecond')>,\n",
      "                                       'minimization_steps': 5000,\n",
      "                                       'production_length': <Quantity(0.5, 'nanosecond')>},\n",
      " 'solvent_forcefield_settings': {'constraints': 'hbonds',\n",
      "                                 'forcefields': ['amber/ff14SB.xml',\n",
      "                                                 'amber/tip3p_standard.xml',\n",
      "                                                 'amber/tip3p_HFE_multivalent.xml',\n",
      "                                                 'amber/phosaa10.xml'],\n",
      "                                 'hydrogen_mass': 3.0,\n",
      "                                 'nonbonded_cutoff': <Quantity(1.0, 'nanometer')>,\n",
      "                                 'nonbonded_method': 'PME',\n",
      "                                 'rigid_water': True,\n",
      "                                 'small_molecule_forcefield': 'openff-2.0.0'},\n",
      " 'solvent_output_settings': {'checkpoint_interval': <Quantity(1, 'picosecond')>,\n",
      "                             'checkpoint_storage_filename': 'solvent_checkpoint.nc',\n",
      "                             'forcefield_cache': 'db.json',\n",
      "                             'output_filename': 'solvent.nc',\n",
      "                             'output_indices': 'not water',\n",
      "                             'output_structure': 'hybrid_system.pdb'},\n",
      " 'solvent_simulation_settings': {'early_termination_target_error': <Quantity(0.0, 'kilocalorie_per_mole')>,\n",
      "                                 'equilibration_length': <Quantity(1.0, 'nanosecond')>,\n",
      "                                 'minimization_steps': 5000,\n",
      "                                 'n_replicas': 14,\n",
      "                                 'production_length': <Quantity(10.0, 'nanosecond')>,\n",
      "                                 'real_time_analysis_interval': <Quantity(250, 'picosecond')>,\n",
      "                                 'real_time_analysis_minimum_time': <Quantity(500, 'picosecond')>,\n",
      "                                 'sampler_method': 'repex',\n",
      "                                 'sams_flatness_criteria': 'logZ-flatness',\n",
      "                                 'sams_gamma0': 1.0,\n",
      "                                 'time_per_iteration': <Quantity(1, 'picosecond')>},\n",
      " 'thermo_settings': {'ph': None,\n",
      "                     'pressure': <Quantity(0.986923267, 'standard_atmosphere')>,\n",
      "                     'redox_potential': None,\n",
      "                     'temperature': <Quantity(298.15, 'kelvin')>},\n",
      " 'vacuum_engine_settings': {'compute_platform': None},\n",
      " 'vacuum_equil_output_settings': {'checkpoint_interval': <Quantity(1, 'picosecond')>,\n",
      "                                  'checkpoint_storage_filename': 'checkpoint.chk',\n",
      "                                  'equil_npt_structure': 'equil_structure.pdb',\n",
      "                                  'equil_nvt_structure': None,\n",
      "                                  'forcefield_cache': 'db.json',\n",
      "                                  'log_output': 'equil_simulation.log',\n",
      "                                  'minimized_structure': 'minimized.pdb',\n",
      "                                  'output_indices': 'not water',\n",
      "                                  'preminimized_structure': 'system.pdb',\n",
      "                                  'production_trajectory_filename': 'production_equil.xtc',\n",
      "                                  'trajectory_write_interval': <Quantity(20, 'picosecond')>},\n",
      " 'vacuum_equil_simulation_settings': {'equilibration_length': <Quantity(0.2, 'nanosecond')>,\n",
      "                                      'equilibration_length_nvt': None,\n",
      "                                      'minimization_steps': 5000,\n",
      "                                      'production_length': <Quantity(0.5, 'nanosecond')>},\n",
      " 'vacuum_forcefield_settings': {'constraints': 'hbonds',\n",
      "                                'forcefields': ['amber/ff14SB.xml',\n",
      "                                                'amber/tip3p_standard.xml',\n",
      "                                                'amber/tip3p_HFE_multivalent.xml',\n",
      "                                                'amber/phosaa10.xml'],\n",
      "                                'hydrogen_mass': 3.0,\n",
      "                                'nonbonded_cutoff': <Quantity(1.0, 'nanometer')>,\n",
      "                                'nonbonded_method': 'nocutoff',\n",
      "                                'rigid_water': True,\n",
      "                                'small_molecule_forcefield': 'openff-2.0.0'},\n",
      " 'vacuum_output_settings': {'checkpoint_interval': <Quantity(1, 'picosecond')>,\n",
      "                            'checkpoint_storage_filename': 'vacuum_checkpoint.nc',\n",
      "                            'forcefield_cache': 'db.json',\n",
      "                            'output_filename': 'vacuum.nc',\n",
      "                            'output_indices': 'not water',\n",
      "                            'output_structure': 'hybrid_system.pdb'},\n",
      " 'vacuum_simulation_settings': {'early_termination_target_error': <Quantity(0.0, 'kilocalorie_per_mole')>,\n",
      "                                'equilibration_length': <Quantity(0.5, 'nanosecond')>,\n",
      "                                'minimization_steps': 5000,\n",
      "                                'n_replicas': 14,\n",
      "                                'production_length': <Quantity(2.0, 'nanosecond')>,\n",
      "                                'real_time_analysis_interval': <Quantity(250, 'picosecond')>,\n",
      "                                'real_time_analysis_minimum_time': <Quantity(500, 'picosecond')>,\n",
      "                                'sampler_method': 'repex',\n",
      "                                'sams_flatness_criteria': 'logZ-flatness',\n",
      "                                'sams_gamma0': 1.0,\n",
      "                                'time_per_iteration': <Quantity(1, 'picosecond')>}}\n"
     ]
    }
   ],
   "source": [
    "# in gromacs currency, this is a little like the .mdp file\n",
    "settings"
   ]
  },
  {
   "cell_type": "code",
   "execution_count": 5,
   "id": "825ab785-6d63-456e-a66a-6056ea8cae33",
   "metadata": {},
   "outputs": [
    {
     "name": "stdout",
     "output_type": "stream",
     "text": [
      "<class 'openfe.protocols.openmm_utils.omm_settings.OpenMMSolvationSettings'>\n"
     ]
    }
   ],
   "source": [
    "# notably, this settings section is an OpenMMSolvationSettings\n",
    "print(type(settings.solvation_settings))"
   ]
  },
  {
   "cell_type": "code",
   "execution_count": 6,
   "id": "c13ad4cb-e7db-4a1d-97e5-7c0c75b9362b",
   "metadata": {},
   "outputs": [],
   "source": [
    "from openfe_skunkworks.protocols.openmm_utils.omm_settings import PackmolSolvationSettings\n",
    "\n",
    "packmol_settings = PackmolSolvationSettings()"
   ]
  },
  {
   "cell_type": "code",
   "execution_count": 7,
   "id": "8f3d1a2c",
   "metadata": {},
   "outputs": [
    {
     "data": {
      "text/plain": [
       "openfe.protocols.openmm_afe.equil_afe_settings.AbsoluteSolvationSettings"
      ]
     },
     "execution_count": 7,
     "metadata": {},
     "output_type": "execute_result"
    }
   ],
   "source": [
    "type(settings)"
   ]
  },
  {
   "cell_type": "code",
   "execution_count": 8,
   "id": "da04d349-4f39-4aea-b807-9da8c23718b4",
   "metadata": {},
   "outputs": [],
   "source": [
    "# this currently fails, we'll either have to:\n",
    "# put a solvation_settings: Union[OpenMMSolvationSettings, OpenMMSolvationSettings]\n",
    "# OR create an empty base class that both the above classes inherit from, not sure which is cleaner w/ pydantic\n",
    "settings.solvation_settings = packmol_settings\n",
    "\n",
    "# we can then replace the \"if interchange:\" line with \"if isinstance(solvation_settings, PackmolSolvationSettings):\""
   ]
  },
  {
   "cell_type": "code",
   "execution_count": 9,
   "id": "20a6f36a-8867-4730-b7c7-e886b8806780",
   "metadata": {},
   "outputs": [],
   "source": [
    "# crystallise the settings into a Protocol, a chemistry-less definition of a algorithm\n",
    "protocol = openmm_afe.AbsoluteSolvationProtocol(settings)"
   ]
  },
  {
   "cell_type": "code",
   "execution_count": 10,
   "id": "dcf492d2-7633-4c90-9c9f-b3f9f861e998",
   "metadata": {},
   "outputs": [],
   "source": [
    "# attach the chemistry by bundling the two together into a Transformation\n",
    "transformation = openfe.Transformation(\n",
    "    stateA=cs_benzene,\n",
    "    stateB=cs_solvent,\n",
    "    mapping=None,\n",
    "    protocol=protocol\n",
    ")"
   ]
  },
  {
   "cell_type": "code",
   "execution_count": 11,
   "id": "3910b681-bd2e-4c14-b2fd-8ced0f7f51a6",
   "metadata": {},
   "outputs": [
    {
     "data": {
      "text/plain": [
       "Transformation(stateA=ChemicalSystem(name=solvated benzene, components={'solvent': SolventComponent(name=O, Na+, Cl-), 'ligand': SmallMoleculeComponent(name=benzene)}), stateB=ChemicalSystem(name=solvent system, components={'solvent': SolventComponent(name=O, Na+, Cl-)}), protocol=<AbsoluteSolvationProtocol-08b4951f9786bdc77ff4c1d9e9f63c90>)"
      ]
     },
     "execution_count": 11,
     "metadata": {},
     "output_type": "execute_result"
    }
   ],
   "source": [
    "transformation"
   ]
  },
  {
   "cell_type": "code",
   "execution_count": 12,
   "id": "ceb92c21-ad53-4a3b-850e-fa2bd64ca494",
   "metadata": {},
   "outputs": [],
   "source": [
    "# this is a bit like a gromacs .tpr, it's a self contained simulation definition ready to go\n",
    "transformation.dump('benzene.json')"
   ]
  },
  {
   "cell_type": "code",
   "execution_count": 13,
   "id": "1e6708d7-2a0e-4e0d-9f92-7867b09f7f90",
   "metadata": {},
   "outputs": [
    {
     "name": "stdout",
     "output_type": "stream",
     "text": [
      "Loading file...\n",
      "Planning simulations for this edge...\n",
      "Starting the simulations for this edge...\n",
      "SYSTEM CONFIG DETAILS:\n",
      "INFO:openfe.utils.system_probe.log:SYSTEM CONFIG DETAILS:\n",
      "hostname: 'Matts-MacBook-Pro.local'\n",
      "INFO:openfe.utils.system_probe.log.hostname:hostname: 'Matts-MacBook-Pro.local'\n",
      "CUDA-based GPU not found\n",
      "INFO:openfe.utils.system_probe.log.gpu:CUDA-based GPU not found\n",
      "Memory used: 1.7G (95.4%)\n",
      "INFO:openfe.utils.system_probe.log:Memory used: 1.7G (95.4%)\n",
      "/Users/mattthompson/software/openfe_skunkworks/devscripts/scratch_AbsoluteSolvationVacuumUnit-06eb09e7d98b408dacf1201bcdf01937_attempt_0: 96% full (17.7G free)\n",
      "INFO:openfe.utils.system_probe.log:/Users/mattthompson/software/openfe_skunkworks/devscripts/scratch_AbsoluteSolvationVacuumUnit-06eb09e7d98b408dacf1201bcdf01937_attempt_0: 96% full (17.7G free)\n",
      "setting up alchemical system\n",
      "INFO:gufekey.openfe_skunkworks.protocols.openmm_afe.equil_solvation_afe_method.AbsoluteSolvationVacuumUnit:setting up alchemical system\n",
      "Parameterizing molecules\n",
      "INFO:gufekey.openfe_skunkworks.protocols.openmm_afe.equil_solvation_afe_method.AbsoluteSolvationVacuumUnit:Parameterizing molecules\n",
      "WARNING:py.warnings:/Users/mattthompson/micromamba/envs/skunkworks-dev/lib/python3.11/site-packages/openfe/protocols/openmm_rfe/_rfe_utils/compute.py:56: UserWarning: Non-GPU platform selected: CPU, this may significantly impact simulation performance\n",
      "  warnings.warn(wmsg)\n",
      "\n",
      "WARNING:root:Non-GPU platform selected: CPU, this may significantly impact simulation performance\n",
      "minimizing systems\n",
      "INFO:openfe.protocols.openmm_md.plain_md_methods:minimizing systems\n",
      "Running NPT equilibration\n",
      "INFO:openfe.protocols.openmm_md.plain_md_methods:Running NPT equilibration\n",
      "SYSTEM CONFIG DETAILS:\n",
      "INFO:openfe.utils.system_probe.log:SYSTEM CONFIG DETAILS:\n",
      "hostname: 'Matts-MacBook-Pro.local'\n",
      "INFO:openfe.utils.system_probe.log.hostname:hostname: 'Matts-MacBook-Pro.local'\n",
      "CUDA-based GPU not found\n",
      "INFO:openfe.utils.system_probe.log.gpu:CUDA-based GPU not found\n",
      "Memory used: 1.7G (95.8%)\n",
      "INFO:openfe.utils.system_probe.log:Memory used: 1.7G (95.8%)\n",
      "/Users/mattthompson/software/openfe_skunkworks/devscripts/scratch_AbsoluteSolvationVacuumUnit-06eb09e7d98b408dacf1201bcdf01937_attempt_1: 96% full (17.7G free)\n",
      "INFO:openfe.utils.system_probe.log:/Users/mattthompson/software/openfe_skunkworks/devscripts/scratch_AbsoluteSolvationVacuumUnit-06eb09e7d98b408dacf1201bcdf01937_attempt_1: 96% full (17.7G free)\n",
      "setting up alchemical system\n",
      "INFO:gufekey.openfe_skunkworks.protocols.openmm_afe.equil_solvation_afe_method.AbsoluteSolvationVacuumUnit:setting up alchemical system\n",
      "Parameterizing molecules\n",
      "INFO:gufekey.openfe_skunkworks.protocols.openmm_afe.equil_solvation_afe_method.AbsoluteSolvationVacuumUnit:Parameterizing molecules\n",
      "WARNING:py.warnings:/Users/mattthompson/micromamba/envs/skunkworks-dev/lib/python3.11/site-packages/openfe/protocols/openmm_rfe/_rfe_utils/compute.py:56: UserWarning: Non-GPU platform selected: CPU, this may significantly impact simulation performance\n",
      "  warnings.warn(wmsg)\n",
      "\n",
      "WARNING:root:Non-GPU platform selected: CPU, this may significantly impact simulation performance\n",
      "minimizing systems\n",
      "INFO:openfe.protocols.openmm_md.plain_md_methods:minimizing systems\n",
      "Running NPT equilibration\n",
      "INFO:openfe.protocols.openmm_md.plain_md_methods:Running NPT equilibration\n",
      "SYSTEM CONFIG DETAILS:\n",
      "INFO:openfe.utils.system_probe.log:SYSTEM CONFIG DETAILS:\n",
      "hostname: 'Matts-MacBook-Pro.local'\n",
      "INFO:openfe.utils.system_probe.log.hostname:hostname: 'Matts-MacBook-Pro.local'\n",
      "CUDA-based GPU not found\n",
      "INFO:openfe.utils.system_probe.log.gpu:CUDA-based GPU not found\n",
      "Memory used: 1.7G (95.6%)\n",
      "INFO:openfe.utils.system_probe.log:Memory used: 1.7G (95.6%)\n",
      "/Users/mattthompson/software/openfe_skunkworks/devscripts/scratch_AbsoluteSolvationVacuumUnit-06eb09e7d98b408dacf1201bcdf01937_attempt_2: 96% full (17.7G free)\n",
      "INFO:openfe.utils.system_probe.log:/Users/mattthompson/software/openfe_skunkworks/devscripts/scratch_AbsoluteSolvationVacuumUnit-06eb09e7d98b408dacf1201bcdf01937_attempt_2: 96% full (17.7G free)\n",
      "setting up alchemical system\n",
      "INFO:gufekey.openfe_skunkworks.protocols.openmm_afe.equil_solvation_afe_method.AbsoluteSolvationVacuumUnit:setting up alchemical system\n",
      "Parameterizing molecules\n",
      "INFO:gufekey.openfe_skunkworks.protocols.openmm_afe.equil_solvation_afe_method.AbsoluteSolvationVacuumUnit:Parameterizing molecules\n",
      "WARNING:py.warnings:/Users/mattthompson/micromamba/envs/skunkworks-dev/lib/python3.11/site-packages/openfe/protocols/openmm_rfe/_rfe_utils/compute.py:56: UserWarning: Non-GPU platform selected: CPU, this may significantly impact simulation performance\n",
      "  warnings.warn(wmsg)\n",
      "\n",
      "WARNING:root:Non-GPU platform selected: CPU, this may significantly impact simulation performance\n",
      "minimizing systems\n",
      "INFO:openfe.protocols.openmm_md.plain_md_methods:minimizing systems\n",
      "Running NPT equilibration\n",
      "INFO:openfe.protocols.openmm_md.plain_md_methods:Running NPT equilibration\n",
      "Done with all simulations! Analyzing the results....\n",
      "Here is the result:\n",
      "\tdG = None ± None\n",
      "\n",
      "Additional information:\n",
      "Absolute Solvation, benzene vacuum leg: repeat 2 generation 0:\n",
      "{}\n",
      "Absolute Solvation, benzene vacuum leg: repeat 2 generation 0:\n",
      "{}\n",
      "Absolute Solvation, benzene vacuum leg: repeat 2 generation 0:\n",
      "{}\n",
      "\n",
      "Error: The protocol unit 'Absolute Solvation, benzene vacuum leg: repeat 2 generation 0' failed with the error message:\n",
      "OpenMMException: Particle coordinate is NaN.  For more information, see https://github.com/openmm/openmm/wiki/Frequently-Asked-Questions#nan\n",
      "\n",
      "Details provided in output.\n"
     ]
    }
   ],
   "source": [
    "# running \"openfe quickrun benzene.json\" should start the simulation\n",
    "!openfe quickrun benzene.json"
   ]
  }
 ],
 "metadata": {
  "kernelspec": {
   "display_name": "Python 3 (ipykernel)",
   "language": "python",
   "name": "python3"
  },
  "language_info": {
   "codemirror_mode": {
    "name": "ipython",
    "version": 3
   },
   "file_extension": ".py",
   "mimetype": "text/x-python",
   "name": "python",
   "nbconvert_exporter": "python",
   "pygments_lexer": "ipython3",
   "version": "3.11.8"
  }
 },
 "nbformat": 4,
 "nbformat_minor": 5
}
